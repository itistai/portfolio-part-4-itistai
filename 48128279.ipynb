{
 "cells": [
  {
   "cell_type": "markdown",
   "id": "f5e28b89",
   "metadata": {},
   "source": [
    "## Portfolio part 4\n",
    "## Examine our progress towards Sustainable Education\n",
    "\n",
    "### Introduction\n",
    "\n",
    "In 2015, United Nations proposed the 17 Sustainable Development Goals that provided the blueprints toward - as its name - a sustainable future for everyone on Earth. All of the United Nations members were willing to achieve every goals in 2030. Now in 2023, we are half way to destination. It is a great time to review the progress we have achieved so far. \n",
    "\n",
    "Among the 17 goals, the 4th goal strike me the most as I am a person still in academic settings. In short, I am an international student going abroad to find opportunities to exposure of world class education. Hence, in this portfolio, I will examine the progress of many countries on the sustainable education goals.\n",
    "\n",
    "### Objectives\n",
    "\n",
    "The main objective of the project is to find out the progresses in the halfway mark of the goal. That progresses is viewed by divided the 215 countries into groups: those who on pace with the goals and those who lag behind.\n",
    "\n",
    "To be more specific, as a big goal composed of several smaller targets, each target then composed of several indicators. Not to mention that education cannot improve on it own. Many other targets from other goals need to be take into consideration as well. Hence, the project will examine several targets and come up with a model to divide the country into group of countries on pace to achieve the goals or making little to no progress at all.\n",
    "\n",
    "### Methodology\n",
    "\n",
    "The project consist of two processes so it deploy two machine learning models. \n",
    "\n",
    "First of all, it use unsupervised model to identify the clusters. Due to the problems of having many different targets, just rigorously classify every countries into binary outcome of high progress or no progress might lead to underfitting. For example, I might neglect some inherent relationship lie in the common characteristics of some countries. Therefore, I use Hierarchical Clustering to group the countries. \n",
    "\n",
    "Then I use some descriptive statistics and visualization to understand the characteristics of each cluster to come up with a better understanding of the data. It serves as the basis for me to label each clusters based on their common characteristics. \n",
    "\n",
    "Next, I use those labels as the basis for my classification model. Here, I use the neural network approach of MLP to classify countries to the progress they made toward the sustainable education future. For example, some countries might enact laws to accelerate their progress, my model can help to examine whether or not the results of those laws is on par with other countries in the world.\n"
   ]
  }
 ],
 "metadata": {
  "kernelspec": {
   "display_name": "Python 3 (ipykernel)",
   "language": "python",
   "name": "python3"
  },
  "language_info": {
   "codemirror_mode": {
    "name": "ipython",
    "version": 3
   },
   "file_extension": ".py",
   "mimetype": "text/x-python",
   "name": "python",
   "nbconvert_exporter": "python",
   "pygments_lexer": "ipython3",
   "version": "3.11.3"
  }
 },
 "nbformat": 4,
 "nbformat_minor": 5
}
